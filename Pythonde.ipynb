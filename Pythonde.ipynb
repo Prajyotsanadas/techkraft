{
 "cells": [
  {
   "cell_type": "code",
   "execution_count": null,
   "id": "ef8fb389-181e-45af-a9a9-4e473ab96da0",
   "metadata": {},
   "outputs": [],
   "source": []
  },
  {
   "cell_type": "code",
   "execution_count": null,
   "id": "57feb7f9-1c02-4093-86ac-f7167a21e1d7",
   "metadata": {},
   "outputs": [],
   "source": [
    "''' 1. Basic Syntax (Variables, Data Types, Operators)\n",
    "    2. Control Structures (If-Else, Loops)\n",
    "    3. Functions & Modules\n",
    "    4. Data Structures (Lists, Tuples, Dictionaries, Sets)\n",
    "    5. Object-Oriented Programming (OOP)\n",
    "    6. File Handling & Exception Handling\n",
    "    7. Libraries (NumPy, Pandas, etc.)'''"
   ]
  },
  {
   "cell_type": "code",
   "execution_count": 21,
   "id": "15c218b5-6fed-46e4-beba-103002e05765",
   "metadata": {},
   "outputs": [
    {
     "name": "stdout",
     "output_type": "stream",
     "text": [
      "Hello, Python in Jupyter!\n"
     ]
    }
   ],
   "source": [
    "#Printing \n",
    "print(\"Hello, Python in Jupyter!\")"
   ]
  },
  {
   "cell_type": "code",
   "execution_count": 4,
   "id": "4dc7a6db-5ef6-486d-9d57-e03716796b19",
   "metadata": {},
   "outputs": [
    {
     "name": "stdout",
     "output_type": "stream",
     "text": [
      "Prajyotsana 22 5.4 True\n"
     ]
    }
   ],
   "source": [
    "#variables and Datatypes \n",
    "name = \"Prajyotsana\"\n",
    "age = 22\n",
    "height = 5.4 #float\n",
    "is_dataeng_intern = True #Boolean\n",
    "\n",
    "print(name, age, height, is_dataeng_intern)"
   ]
  },
  {
   "cell_type": "code",
   "execution_count": 8,
   "id": "6d1728db-4e9a-46e8-be51-d89e8350f008",
   "metadata": {},
   "outputs": [
    {
     "name": "stdout",
     "output_type": "stream",
     "text": [
      "4\n",
      "0\n",
      "4\n",
      "1.0\n",
      "1\n",
      "4\n"
     ]
    }
   ],
   "source": [
    "#operators\n",
    "a = 2\n",
    "b = 2\n",
    "print(a + b) #addition\n",
    "print(a - b) #substraction\n",
    "print(a * b) #multiplication\n",
    "print(a / b) #division\n",
    "print(a // b) #floor division\n",
    "print(a ** b) #Exponential "
   ]
  },
  {
   "cell_type": "code",
   "execution_count": 1,
   "id": "3b8de22c-3447-44c3-9930-127b93c55170",
   "metadata": {},
   "outputs": [
    {
     "name": "stdout",
     "output_type": "stream",
     "text": [
      "You are an adult\n",
      "Positive\n"
     ]
    }
   ],
   "source": [
    "# Control Flow(Conditional Statements and Loops)\n",
    "#1. Conditional Statements (if, elif, else)\n",
    "age = 22\n",
    "\n",
    "if age < 18:\n",
    "    print(\"You are a minor.\")\n",
    "elif age >= 18 and age < 60:\n",
    "    print(\"You are an adult\")\n",
    "else: \n",
    "    print(\"You are a senior citizen\")\n",
    "\n",
    "\n",
    "# Write a program to check if a number is positive, negative, or zero.\n",
    "num = 22\n",
    "\n",
    "if num < 0:\n",
    "    print(\"Negative\")\n",
    "elif num > 0:\n",
    "    print(\"Positive\")\n",
    "else:\n",
    "    print(\"Zero\")\n"
   ]
  },
  {
   "cell_type": "code",
   "execution_count": 6,
   "id": "665ef012-9147-40c0-91cd-534a354f639a",
   "metadata": {},
   "outputs": [
    {
     "name": "stdout",
     "output_type": "stream",
     "text": [
      "Iteration 0\n",
      "Iteration 1\n",
      "Iteration 2\n",
      "Iteration 3\n",
      "Iteration 4\n",
      "apple\n",
      "banana\n",
      "cherry\n",
      "Count is 0\n",
      "Count is 1\n",
      "Count is 2\n",
      "Count is 3\n",
      "Count is 4\n",
      "Number 0\n",
      "Number 1\n",
      "Number 2\n",
      "Number 3\n",
      "Number 4\n",
      "Number 5\n",
      "Number 6\n",
      "Number 7\n",
      "Number 8\n",
      "Number 9\n",
      "Number 10\n",
      "Count is 10\n",
      "Count is 9\n",
      "Count is 8\n",
      "Count is 7\n",
      "Count is 6\n",
      "Count is 5\n",
      "Count is 4\n",
      "Count is 3\n",
      "Count is 2\n",
      "Count is 1\n",
      "0\n",
      "1\n",
      "2\n",
      "3\n",
      "4\n",
      "1\n",
      "3\n",
      "5\n",
      "7\n",
      "9\n",
      "1\n",
      "3\n",
      "5\n",
      "7\n",
      "9\n",
      "11\n",
      "13\n",
      "15\n",
      "17\n",
      "19\n"
     ]
    }
   ],
   "source": [
    "# Loops (for & while)\n",
    "# for loop (Iterating over a range):\n",
    "for i in range(5):\n",
    "    print(f\"Iteration {i}\")\n",
    "\n",
    "# Looping through a list\n",
    "fruits = [\"apple\", \"banana\", \"cherry\"]\n",
    "for fruits in fruits:\n",
    "    print(fruits)\n",
    "\n",
    "# While Loops\n",
    "count = 0\n",
    "while count < 5:\n",
    "    print(f\"Count is {count}\")\n",
    "    count += 1\n",
    "#📌 Exercise:\n",
    "\n",
    "#Print numbers from 1 to 10 using a for loop.\n",
    "for i in range (11):\n",
    "    print(f\"Number {i}\")\n",
    "    \n",
    "#Print numbers from 10 to 1 using a while loop.\n",
    "count = 10\n",
    "while count >= 1 :\n",
    "    print(f\"Count is {count}\")\n",
    "    \n",
    "    count -= 1\n",
    "\n",
    "#Loop Control Statements\n",
    "for i in range(10):\n",
    "    if i == 5:\n",
    "        break\n",
    "    print(i)\n",
    "\n",
    "for i in range(10):\n",
    "    if i % 2 == 0:\n",
    "        continue\n",
    "    print(i)\n",
    "\n",
    "#📌 Exercise:\n",
    "# Write a loop that prints only odd numbers between 1 and 20.\n",
    "for i in range(1, 21):\n",
    "    if i % 2 == 0:\n",
    "        continue\n",
    "    print(i)\n",
    "\n"
   ]
  },
  {
   "cell_type": "code",
   "execution_count": 14,
   "id": "8d05e498-19e4-4d38-8b1e-332fe1b1b2f8",
   "metadata": {},
   "outputs": [
    {
     "name": "stdout",
     "output_type": "stream",
     "text": [
      "Hello, Prajyotsana!\n",
      "Hello,User!\n",
      "Hello,Prajyotsana!\n",
      "12\n"
     ]
    }
   ],
   "source": [
    "#Functions & List Comprehensions in Python\n",
    "#Defining & Calling a Function\n",
    "def greet(name):\n",
    "    return f\"Hello, {name}!\"\n",
    "print(greet(\"Prajyotsana\"))\n",
    "\n",
    "#Function with Default Parameters\n",
    "def greet(name=\"User\"):\n",
    "    return f\"Hello,{name}!\"\n",
    "\n",
    "print(greet()) #Uses default value \"User\"\n",
    "print(greet(\"Prajyotsana\")) #User provided value\n",
    "\n",
    "#Function with multiple parameters\n",
    "def add_numbers(a, b):\n",
    "    return a + b\n",
    "\n",
    "print(add_numbers(5, 7)) #Output : 12\n",
    "\n",
    "#📌 Exercise:\n",
    "#Write a function that takes a number and returns True if it's even, otherwise False.\n",
    "\n",
    "\n",
    "\n"
   ]
  },
  {
   "cell_type": "code",
   "execution_count": null,
   "id": "bc510ce7-c545-492b-a25c-87dde9f7577a",
   "metadata": {},
   "outputs": [],
   "source": []
  }
 ],
 "metadata": {
  "kernelspec": {
   "display_name": "Python 3 (ipykernel)",
   "language": "python",
   "name": "python3"
  },
  "language_info": {
   "codemirror_mode": {
    "name": "ipython",
    "version": 3
   },
   "file_extension": ".py",
   "mimetype": "text/x-python",
   "name": "python",
   "nbconvert_exporter": "python",
   "pygments_lexer": "ipython3",
   "version": "3.9.13"
  }
 },
 "nbformat": 4,
 "nbformat_minor": 5
}
