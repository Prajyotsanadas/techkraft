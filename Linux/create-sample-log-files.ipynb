{
 "cells": [
  {
   "cell_type": "code",
   "execution_count": 1,
   "id": "83bc78ed-dd7e-47dd-8e38-be4603e81b10",
   "metadata": {},
   "outputs": [],
   "source": [
    "import random\n",
    "from datetime import datetime, timedelta"
   ]
  },
  {
   "cell_type": "code",
   "execution_count": 2,
   "id": "cc9b6f26-170f-4afc-ad35-a4c796654e79",
   "metadata": {},
   "outputs": [],
   "source": [
    "# Sample data pools\n",
    "ips = ['192.168.1.1', '10.0.0.2', '172.16.0.3', '203.0.113.5', '198.51.100.7']\n",
    "users = ['-', 'alice', 'bob', 'carol', 'dave', 'eve']\n",
    "methods = ['GET', 'POST', 'DELETE', 'PUT']\n",
    "resources = ['/index.html', '/api/data', '/login', '/logout', '/images/logo.png', '/dashboard', '/api/user/123', '/api/order']\n",
    "protocols = ['HTTP/1.0', 'HTTP/1.1', 'HTTP/2']\n",
    "status_codes = [200, 201, 302, 404, 500]\n",
    "sizes = [128, 256, 512, 1024, 2048, 4096, 8192]\n",
    " \n",
    "with open('web_log.log', 'w') as f:\n",
    "    for _ in range(50):\n",
    "        ip = random.choice(ips)\n",
    "        user = random.choice(users)\n",
    "        # Generate a random timestamp within the last 7 days\n",
    "        timestamp = (datetime.now() - timedelta(minutes=random.randint(0, 10080))).strftime('%d/%b/%Y:%H:%M:%S +0000')\n",
    "        method = random.choice(methods)\n",
    "        resource = random.choice(resources)\n",
    "        protocol = random.choice(protocols)\n",
    "        status = random.choice(status_codes)\n",
    "        size = random.choice(sizes)\n",
    " \n",
    "        log = f'{ip} - {user} [{timestamp}] \"{method} {resource} {protocol}\" {status} {size}\\n'\n",
    "        f.write(log)"
   ]
  },
  {
   "cell_type": "code",
   "execution_count": 4,
   "id": "4e3c90bb-47b4-4020-9549-0cfe0a603f17",
   "metadata": {},
   "outputs": [
    {
     "name": "stdout",
     "output_type": "stream",
     "text": [
      "✅ Success logs extracted to 'success.log' using Python.\n"
     ]
    }
   ],
   "source": [
    "with open('web_log.log', 'r') as f, open('success.log', 'w') as out:\n",
    "    for line in f:\n",
    "        if ' 200 ' in line:\n",
    "            out.write(line)\n",
    "\n",
    "print(\"✅ Success logs extracted to 'success.log' using Python.\")\n"
   ]
  },
  {
   "cell_type": "code",
   "execution_count": null,
   "id": "d9e606a2-3c53-48fc-afe1-b9273b5a02b2",
   "metadata": {},
   "outputs": [],
   "source": []
  }
 ],
 "metadata": {
  "kernelspec": {
   "display_name": "Python 3 (ipykernel)",
   "language": "python",
   "name": "python3"
  },
  "language_info": {
   "codemirror_mode": {
    "name": "ipython",
    "version": 3
   },
   "file_extension": ".py",
   "mimetype": "text/x-python",
   "name": "python",
   "nbconvert_exporter": "python",
   "pygments_lexer": "ipython3",
   "version": "3.13.2"
  }
 },
 "nbformat": 4,
 "nbformat_minor": 5
}
